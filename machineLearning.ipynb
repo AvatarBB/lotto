{
 "cells": [
  {
   "cell_type": "code",
   "execution_count": 40,
   "metadata": {},
   "outputs": [],
   "source": [
    "import numpy as np"
   ]
  },
  {
   "cell_type": "code",
   "execution_count": 41,
   "metadata": {},
   "outputs": [
    {
     "name": "stdout",
     "output_type": "stream",
     "text": [
      "(2280, 6)\n"
     ]
    }
   ],
   "source": [
    "# set lookback value \n",
    "gap = 10\n",
    "def combination(data):\n",
    "    dataset = []\n",
    "    for idx,value in enumerate(data):\n",
    "        if(idx<len(data)-gap):\n",
    "            temp = data[idx:idx+gap]\n",
    "            temp = temp.reshape(6*gap)\n",
    "            dataset.append(temp)\n",
    "    return np.array(dataset)\n",
    "\n",
    "def get_data():#normlize\n",
    "    data = np.loadtxt('hk.txt')\n",
    "    print(data.shape)\n",
    "    x = combination(data)\n",
    "    y = data[gap:]\n",
    "    return x,y\n",
    "\n",
    "x,y = get_data()"
   ]
  },
  {
   "cell_type": "code",
   "execution_count": 42,
   "metadata": {},
   "outputs": [
    {
     "name": "stdout",
     "output_type": "stream",
     "text": [
      "(1470, 6)\n"
     ]
    }
   ],
   "source": [
    "def get_test():\n",
    "    data = np.loadtxt('lotto.txt').astype('int8')\n",
    "    print(data.shape)\n",
    "    x = combination(data)\n",
    "    y = data[gap:]\n",
    "    return x,y \n",
    "\n",
    "test_x,test_y = get_test()"
   ]
  },
  {
   "cell_type": "code",
   "execution_count": 43,
   "metadata": {},
   "outputs": [],
   "source": [
    "# Decision trees\n",
    "from sklearn import tree\n",
    "tree_model = tree.DecisionTreeRegressor().fit(x,y)\n",
    "tree_result = tree_model.predict(test_x).astype('int8')"
   ]
  },
  {
   "cell_type": "code",
   "execution_count": 44,
   "metadata": {},
   "outputs": [],
   "source": [
    "#Generalized Linear Models\n",
    "from sklearn import linear_model\n",
    "linear_model = linear_model.LinearRegression().fit(x,y)\n",
    "linear_result = np.around(linear_model.predict(test_x)).astype('int8')"
   ]
  },
  {
   "cell_type": "code",
   "execution_count": null,
   "metadata": {},
   "outputs": [
    {
     "name": "stdout",
     "output_type": "stream",
     "text": [
      "_________________________________________________________________\n",
      "Layer (type)                 Output Shape              Param #   \n",
      "=================================================================\n",
      "dense_16 (Dense)             (None, 512)               31232     \n",
      "_________________________________________________________________\n",
      "dropout_7 (Dropout)          (None, 512)               0         \n",
      "_________________________________________________________________\n",
      "dense_17 (Dense)             (None, 256)               131328    \n",
      "_________________________________________________________________\n",
      "dropout_8 (Dropout)          (None, 256)               0         \n",
      "_________________________________________________________________\n",
      "dense_18 (Dense)             (None, 6)                 1542      \n",
      "=================================================================\n",
      "Total params: 164,102\n",
      "Trainable params: 164,102\n",
      "Non-trainable params: 0\n",
      "_________________________________________________________________\n",
      "Epoch 1/1\n",
      "2270/2270 [==============================] - 1s 306us/step - loss: 0.0380\n"
     ]
    }
   ],
   "source": [
    "# Deep NN with keras\n",
    "from keras.models import Sequential \n",
    "from keras.layers.core import Dense, Dropout\n",
    "def get_DNN():\n",
    "    model = Sequential()\n",
    "    model.add(Dense(512, input_dim=6*gap,activation='tanh'))\n",
    "    model.add(Dropout(0.4))\n",
    "    model.add(Dense(256,activation='tanh'))\n",
    "    model.add(Dropout(0.4))\n",
    "    model.add(Dense(6,activation='sigmoid'))# 01~49中任選6個號碼\n",
    "    model.summary()\n",
    "    model.compile(loss='mean_squared_error', optimizer='adam')\n",
    "    return model\n",
    "\n",
    "dnn_model = get_DNN()\n",
    "dnn_model.fit(x/50, y/50, batch_size=128, epochs=1,verbose=1)\n",
    "dnn_result =np.around(dnn_model.predict(test_x/50)*50).astype('int8')"
   ]
  },
  {
   "cell_type": "code",
   "execution_count": null,
   "metadata": {
    "scrolled": true
   },
   "outputs": [
    {
     "name": "stdout",
     "output_type": "stream",
     "text": [
      "_________________________________________________________________\n",
      "Layer (type)                 Output Shape              Param #   \n",
      "=================================================================\n",
      "embedding_4 (Embedding)      (None, None, 32)          1920      \n",
      "_________________________________________________________________\n",
      "lstm_4 (LSTM)                (None, 512)               1116160   \n",
      "_________________________________________________________________\n",
      "dense_19 (Dense)             (None, 256)               131328    \n",
      "_________________________________________________________________\n",
      "dense_20 (Dense)             (None, 6)                 1542      \n",
      "=================================================================\n",
      "Total params: 1,250,950\n",
      "Trainable params: 1,250,950\n",
      "Non-trainable params: 0\n",
      "_________________________________________________________________\n",
      "Epoch 1/1\n",
      "1792/2270 [======================>.......] - ETA: 12s - loss: 0.0453"
     ]
    }
   ],
   "source": [
    "# LSTM  with keras\n",
    "from keras.layers import Embedding,LSTM\n",
    "def get_LSTM():\n",
    "    model = Sequential()\n",
    "    model.add(Embedding(6*gap,32))\n",
    "    model.add(LSTM(512,recurrent_dropout=0.2, dropout=0.2))\n",
    "    model.add(Dense(256, activation=\"tanh\"))\n",
    "    model.add(Dense(6, activation=\"sigmoid\")) \n",
    "    model.summary()\n",
    "    model.compile(loss='mean_squared_error', optimizer='adam')\n",
    "    return model\n",
    "\n",
    "lstm_model = get_LSTM()\n",
    "lstm_model.fit(x/50, y/50, batch_size=128, epochs=1,verbose=1)\n",
    "lstm_result =np.around(lstm_model.predict(test_x/50)*50).astype('int8')"
   ]
  },
  {
   "cell_type": "code",
   "execution_count": null,
   "metadata": {},
   "outputs": [],
   "source": [
    "print(tree_result.shape)\n",
    "print(linear_result.shape)\n",
    "print(dnn_result.shape)\n",
    "print(lstm_result.shape)"
   ]
  },
  {
   "cell_type": "code",
   "execution_count": null,
   "metadata": {},
   "outputs": [],
   "source": [
    "def test():\n",
    "    countRd = 0\n",
    "    countTree = 0\n",
    "    countLinear = 0\n",
    "    countDNN = 0\n",
    "    countLSTM = 0\n",
    "\n",
    "    winRd = 0\n",
    "    winTree = 0\n",
    "    winLinear = 0\n",
    "    winDNN = 0\n",
    "    winLSTM = 0\n",
    "\n",
    "    for idx in range(len(test_y)):\n",
    "        print(\"------開獎對比----\"+str(idx))\n",
    "        rand = np.sort((np.add(np.random.choice(49,6, replace=False),1)))\n",
    "        print(rand)\n",
    "        print(linear_result[idx])\n",
    "        print(tree_result[idx])\n",
    "        print(dnn_result[idx])\n",
    "        print(lstm_result[idx])\n",
    "        print(test_y[idx])\n",
    "\n",
    "        print(\"-------------------\")\n",
    "        setRd = set(rand)\n",
    "        setTree = set(linear_result[idx])\n",
    "        setLinear = set(tree_result[idx]) \n",
    "        setDNN = set(dnn_result[idx])\n",
    "        setLSTM = set(lstm_result[idx])\n",
    "        setWin = set(test_y[idx])\n",
    "\n",
    "        resultRd = setRd&setWin\n",
    "        resultTree = setTree&setWin\n",
    "        resultLinear = setLinear&setWin\n",
    "        resultDNN = setDNN&setWin\n",
    "        resultLSTM = setLSTM&setWin\n",
    "\n",
    "        if(resultRd!=set()):\n",
    "            print('Random:',resultRd)\n",
    "            if(len(resultRd)>=3):\n",
    "                print('Random 中獎咯')\n",
    "                winRd += 1\n",
    "            countRd += 1\n",
    "        if(resultTree!=set()):\n",
    "            print('Decision Tree:',resultTree)\n",
    "            if(len(resultTree)>=3):\n",
    "                print('Decision Tree 中獎咯')\n",
    "                winTree +=1\n",
    "            countTree += 1\n",
    "        if(resultLinear!=set()):\n",
    "            print('Linear:',resultLinear)\n",
    "            if(len(resultLinear)>=3):\n",
    "                print('Linear 中獎咯')\n",
    "                winLinear +=1\n",
    "            countLinear += 1\n",
    "        if(resultDNN!=set()):\n",
    "            print('DNN:',resultDNN)\n",
    "            if(len(resultDNN)>=3):\n",
    "                print('DNN 中獎咯')\n",
    "                winDNN +=1\n",
    "            countDNN += 1\n",
    "        if(resultLSTM!=set()):\n",
    "            print('LSTM:',resultLSTM)\n",
    "            if(len(resultLSTM)>=3):\n",
    "                print('LSTM 中獎咯')\n",
    "                winLSTM +=1\n",
    "            countLSTM += 1\n",
    "\n",
    "    print(\"-------------------\")\n",
    "    print('hit','win')\n",
    "    print(countRd,winRd)\n",
    "    print(countTree,winTree)\n",
    "    print(countLinear,winLinear)\n",
    "    print(countDNN,winDNN)\n",
    "    print(countLSTM,winLSTM)\n",
    "    count = []\n",
    "    win =[]\n",
    "    count.append([countRd,countTree,countLinear,countDNN,countLSTM])\n",
    "    win.append([winRd,winTree,winLinear,winDNN,winLSTM])\n",
    "    return count,win"
   ]
  },
  {
   "cell_type": "code",
   "execution_count": null,
   "metadata": {},
   "outputs": [],
   "source": [
    "count = []\n",
    "win = []\n",
    "for i in range(20):\n",
    "    c,w = test()\n",
    "    count.append(c)\n",
    "    win.append(w)"
   ]
  },
  {
   "cell_type": "code",
   "execution_count": null,
   "metadata": {},
   "outputs": [],
   "source": [
    "count = np.array(count).reshape(20,5)\n",
    "win = np.array(win).reshape(20,5)"
   ]
  },
  {
   "cell_type": "code",
   "execution_count": null,
   "metadata": {},
   "outputs": [],
   "source": [
    "print(count[:,0].mean())\n",
    "print(win[:,0].mean())"
   ]
  },
  {
   "cell_type": "code",
   "execution_count": null,
   "metadata": {},
   "outputs": [],
   "source": [
    "gap"
   ]
  }
 ],
 "metadata": {
  "kernelspec": {
   "display_name": "Python 3",
   "language": "python",
   "name": "python3"
  },
  "language_info": {
   "codemirror_mode": {
    "name": "ipython",
    "version": 3
   },
   "file_extension": ".py",
   "mimetype": "text/x-python",
   "name": "python",
   "nbconvert_exporter": "python",
   "pygments_lexer": "ipython3",
   "version": "3.5.2"
  }
 },
 "nbformat": 4,
 "nbformat_minor": 2
}
